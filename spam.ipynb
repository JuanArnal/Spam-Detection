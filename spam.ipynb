{
 "cells": [
  {
   "cell_type": "code",
   "execution_count": 1,
   "metadata": {},
   "outputs": [],
   "source": [
    "# < > No tengo estos simbolos en el teclado por lo que los tengo aquí para después....\n",
    "import numpy as np\n",
    "import pandas as pd # Manipular los datos de forma sencilla para poder estudiarlos previamente\n",
    "\n",
    "import matplotlib.pyplot as plt # Representaciones\n",
    "import seaborn as sns # Representaciones de correlaciones entre variables\n",
    "%matplotlib inline\n",
    "\n",
    "import scipy.stats as stats # Predicciones estadísticas"
   ]
  },
  {
   "cell_type": "markdown",
   "metadata": {},
   "source": [
    "### Download data"
   ]
  },
  {
   "cell_type": "code",
   "execution_count": 2,
   "metadata": {},
   "outputs": [],
   "source": [
    "df = pd.read_csv('C:/Users/Usuario/Downloads/all/train.csv', nrows=2)"
   ]
  },
  {
   "cell_type": "code",
   "execution_count": 3,
   "metadata": {},
   "outputs": [],
   "source": [
    "new_df  = pd.DataFrame(columns = df.columns)"
   ]
  },
  {
   "cell_type": "code",
   "execution_count": 4,
   "metadata": {},
   "outputs": [
    {
     "name": "stderr",
     "output_type": "stream",
     "text": [
      "C:\\Users\\Usuario\\Anaconda3\\lib\\site-packages\\IPython\\core\\interactiveshell.py:2785: DtypeWarning: Columns (28) have mixed types. Specify dtype option on import or set low_memory=False.\n",
      "  interactivity=interactivity, compiler=compiler, result=result)\n"
     ]
    },
    {
     "name": "stdout",
     "output_type": "stream",
     "text": [
      "0\n",
      "100000\n"
     ]
    },
    {
     "name": "stderr",
     "output_type": "stream",
     "text": [
      "C:\\Users\\Usuario\\Anaconda3\\lib\\site-packages\\pandas\\core\\frame.py:6201: FutureWarning: Sorting because non-concatenation axis is not aligned. A future version\n",
      "of pandas will change to not sort by default.\n",
      "\n",
      "To accept the future behavior, pass 'sort=True'.\n",
      "\n",
      "To retain the current behavior and silence the warning, pass sort=False\n",
      "\n",
      "  sort=sort)\n"
     ]
    },
    {
     "name": "stdout",
     "output_type": "stream",
     "text": [
      "200000\n",
      "300000\n",
      "400000\n",
      "500000\n",
      "600000\n",
      "700000\n",
      "800000\n",
      "900000\n"
     ]
    }
   ],
   "source": [
    "#df = pd.read_csv('C:/Users/Usuario/Downloads/all/train.csv', nrows=2)\n",
    "#new_df = df.empty\n",
    "chunksize = 100000\n",
    "for chunk_number, df_train in enumerate(pd.read_csv('C:/Users/Usuario/Downloads/all/train.csv', chunksize=chunksize, nrows=1000000)):\n",
    "    print(chunk_number*100000)\n",
    "    new_df = new_df.select_dtypes('number').append(df_train)\n"
   ]
  },
  {
   "cell_type": "code",
   "execution_count": 5,
   "metadata": {},
   "outputs": [
    {
     "data": {
      "text/plain": [
       "(1000000, 83)"
      ]
     },
     "execution_count": 5,
     "metadata": {},
     "output_type": "execute_result"
    }
   ],
   "source": [
    "new_df.shape"
   ]
  },
  {
   "cell_type": "code",
   "execution_count": 6,
   "metadata": {},
   "outputs": [],
   "source": [
    "#df_train = new_df.select_dtypes('number').fillna(new_df.mean())\n",
    "df_train = new_df.fillna(new_df.mean())"
   ]
  },
  {
   "cell_type": "code",
   "execution_count": 7,
   "metadata": {},
   "outputs": [
    {
     "data": {
      "text/html": [
       "<div>\n",
       "<style scoped>\n",
       "    .dataframe tbody tr th:only-of-type {\n",
       "        vertical-align: middle;\n",
       "    }\n",
       "\n",
       "    .dataframe tbody tr th {\n",
       "        vertical-align: top;\n",
       "    }\n",
       "\n",
       "    .dataframe thead th {\n",
       "        text-align: right;\n",
       "    }\n",
       "</style>\n",
       "<table border=\"1\" class=\"dataframe\">\n",
       "  <thead>\n",
       "    <tr style=\"text-align: right;\">\n",
       "      <th></th>\n",
       "      <th>AVProductStatesIdentifier</th>\n",
       "      <th>AVProductsEnabled</th>\n",
       "      <th>AVProductsInstalled</th>\n",
       "      <th>AppVersion</th>\n",
       "      <th>AutoSampleOptIn</th>\n",
       "      <th>AvSigVersion</th>\n",
       "      <th>Census_ActivationChannel</th>\n",
       "      <th>Census_ChassisTypeName</th>\n",
       "      <th>Census_DeviceFamily</th>\n",
       "      <th>Census_FirmwareManufacturerIdentifier</th>\n",
       "      <th>...</th>\n",
       "      <th>Processor</th>\n",
       "      <th>ProductName</th>\n",
       "      <th>PuaMode</th>\n",
       "      <th>RtpStateBitfield</th>\n",
       "      <th>SMode</th>\n",
       "      <th>SkuEdition</th>\n",
       "      <th>SmartScreen</th>\n",
       "      <th>UacLuaenable</th>\n",
       "      <th>Wdft_IsGamer</th>\n",
       "      <th>Wdft_RegionIdentifier</th>\n",
       "    </tr>\n",
       "  </thead>\n",
       "  <tbody>\n",
       "    <tr>\n",
       "      <th>254247</th>\n",
       "      <td>24213.0</td>\n",
       "      <td>1.0</td>\n",
       "      <td>2.0</td>\n",
       "      <td>NaN</td>\n",
       "      <td>0</td>\n",
       "      <td>NaN</td>\n",
       "      <td>NaN</td>\n",
       "      <td>NaN</td>\n",
       "      <td>NaN</td>\n",
       "      <td>628.0</td>\n",
       "      <td>...</td>\n",
       "      <td>NaN</td>\n",
       "      <td>NaN</td>\n",
       "      <td>NaN</td>\n",
       "      <td>7.0</td>\n",
       "      <td>0.0</td>\n",
       "      <td>NaN</td>\n",
       "      <td>NaN</td>\n",
       "      <td>1.0</td>\n",
       "      <td>0.0</td>\n",
       "      <td>10.0</td>\n",
       "    </tr>\n",
       "    <tr>\n",
       "      <th>593142</th>\n",
       "      <td>49480.0</td>\n",
       "      <td>1.0</td>\n",
       "      <td>2.0</td>\n",
       "      <td>NaN</td>\n",
       "      <td>0</td>\n",
       "      <td>NaN</td>\n",
       "      <td>NaN</td>\n",
       "      <td>NaN</td>\n",
       "      <td>NaN</td>\n",
       "      <td>142.0</td>\n",
       "      <td>...</td>\n",
       "      <td>NaN</td>\n",
       "      <td>NaN</td>\n",
       "      <td>NaN</td>\n",
       "      <td>7.0</td>\n",
       "      <td>0.0</td>\n",
       "      <td>NaN</td>\n",
       "      <td>NaN</td>\n",
       "      <td>1.0</td>\n",
       "      <td>0.0</td>\n",
       "      <td>7.0</td>\n",
       "    </tr>\n",
       "    <tr>\n",
       "      <th>833486</th>\n",
       "      <td>53447.0</td>\n",
       "      <td>1.0</td>\n",
       "      <td>1.0</td>\n",
       "      <td>NaN</td>\n",
       "      <td>0</td>\n",
       "      <td>NaN</td>\n",
       "      <td>NaN</td>\n",
       "      <td>NaN</td>\n",
       "      <td>NaN</td>\n",
       "      <td>355.0</td>\n",
       "      <td>...</td>\n",
       "      <td>NaN</td>\n",
       "      <td>NaN</td>\n",
       "      <td>NaN</td>\n",
       "      <td>7.0</td>\n",
       "      <td>0.0</td>\n",
       "      <td>NaN</td>\n",
       "      <td>NaN</td>\n",
       "      <td>1.0</td>\n",
       "      <td>0.0</td>\n",
       "      <td>11.0</td>\n",
       "    </tr>\n",
       "    <tr>\n",
       "      <th>898370</th>\n",
       "      <td>7681.0</td>\n",
       "      <td>1.0</td>\n",
       "      <td>3.0</td>\n",
       "      <td>NaN</td>\n",
       "      <td>0</td>\n",
       "      <td>NaN</td>\n",
       "      <td>NaN</td>\n",
       "      <td>NaN</td>\n",
       "      <td>NaN</td>\n",
       "      <td>554.0</td>\n",
       "      <td>...</td>\n",
       "      <td>NaN</td>\n",
       "      <td>NaN</td>\n",
       "      <td>NaN</td>\n",
       "      <td>7.0</td>\n",
       "      <td>0.0</td>\n",
       "      <td>NaN</td>\n",
       "      <td>NaN</td>\n",
       "      <td>1.0</td>\n",
       "      <td>1.0</td>\n",
       "      <td>10.0</td>\n",
       "    </tr>\n",
       "    <tr>\n",
       "      <th>39557</th>\n",
       "      <td>53447.0</td>\n",
       "      <td>1.0</td>\n",
       "      <td>1.0</td>\n",
       "      <td>NaN</td>\n",
       "      <td>0</td>\n",
       "      <td>NaN</td>\n",
       "      <td>NaN</td>\n",
       "      <td>NaN</td>\n",
       "      <td>NaN</td>\n",
       "      <td>142.0</td>\n",
       "      <td>...</td>\n",
       "      <td>NaN</td>\n",
       "      <td>NaN</td>\n",
       "      <td>NaN</td>\n",
       "      <td>7.0</td>\n",
       "      <td>0.0</td>\n",
       "      <td>NaN</td>\n",
       "      <td>NaN</td>\n",
       "      <td>1.0</td>\n",
       "      <td>0.0</td>\n",
       "      <td>3.0</td>\n",
       "    </tr>\n",
       "  </tbody>\n",
       "</table>\n",
       "<p>5 rows × 83 columns</p>\n",
       "</div>"
      ],
      "text/plain": [
       "        AVProductStatesIdentifier  AVProductsEnabled  AVProductsInstalled  \\\n",
       "254247                    24213.0                1.0                  2.0   \n",
       "593142                    49480.0                1.0                  2.0   \n",
       "833486                    53447.0                1.0                  1.0   \n",
       "898370                     7681.0                1.0                  3.0   \n",
       "39557                     53447.0                1.0                  1.0   \n",
       "\n",
       "       AppVersion  AutoSampleOptIn AvSigVersion Census_ActivationChannel  \\\n",
       "254247        NaN                0          NaN                      NaN   \n",
       "593142        NaN                0          NaN                      NaN   \n",
       "833486        NaN                0          NaN                      NaN   \n",
       "898370        NaN                0          NaN                      NaN   \n",
       "39557         NaN                0          NaN                      NaN   \n",
       "\n",
       "       Census_ChassisTypeName Census_DeviceFamily  \\\n",
       "254247                    NaN                 NaN   \n",
       "593142                    NaN                 NaN   \n",
       "833486                    NaN                 NaN   \n",
       "898370                    NaN                 NaN   \n",
       "39557                     NaN                 NaN   \n",
       "\n",
       "        Census_FirmwareManufacturerIdentifier          ...            \\\n",
       "254247                                  628.0          ...             \n",
       "593142                                  142.0          ...             \n",
       "833486                                  355.0          ...             \n",
       "898370                                  554.0          ...             \n",
       "39557                                   142.0          ...             \n",
       "\n",
       "        Processor ProductName PuaMode  RtpStateBitfield  SMode SkuEdition  \\\n",
       "254247        NaN         NaN     NaN               7.0    0.0        NaN   \n",
       "593142        NaN         NaN     NaN               7.0    0.0        NaN   \n",
       "833486        NaN         NaN     NaN               7.0    0.0        NaN   \n",
       "898370        NaN         NaN     NaN               7.0    0.0        NaN   \n",
       "39557         NaN         NaN     NaN               7.0    0.0        NaN   \n",
       "\n",
       "        SmartScreen  UacLuaenable  Wdft_IsGamer  Wdft_RegionIdentifier  \n",
       "254247          NaN           1.0           0.0                   10.0  \n",
       "593142          NaN           1.0           0.0                    7.0  \n",
       "833486          NaN           1.0           0.0                   11.0  \n",
       "898370          NaN           1.0           1.0                   10.0  \n",
       "39557           NaN           1.0           0.0                    3.0  \n",
       "\n",
       "[5 rows x 83 columns]"
      ]
     },
     "execution_count": 7,
     "metadata": {},
     "output_type": "execute_result"
    }
   ],
   "source": [
    "df_train.sample(5)"
   ]
  },
  {
   "cell_type": "markdown",
   "metadata": {},
   "source": [
    "#### Quitamos todas las columnas que tengan mas del 10% de los datos NaN"
   ]
  },
  {
   "cell_type": "code",
   "execution_count": 8,
   "metadata": {},
   "outputs": [],
   "source": [
    "temp = df_train.isna().sum() / df.shape[0] > 0.1\n",
    "bad_columns = temp[temp == True].index"
   ]
  },
  {
   "cell_type": "code",
   "execution_count": 9,
   "metadata": {},
   "outputs": [],
   "source": [
    "df = df_train.drop(bad_columns, axis=1)"
   ]
  },
  {
   "cell_type": "code",
   "execution_count": 10,
   "metadata": {
    "scrolled": true
   },
   "outputs": [
    {
     "data": {
      "text/plain": [
       "AVProductStatesIdentifier                            float64\n",
       "AVProductsEnabled                                    float64\n",
       "AVProductsInstalled                                  float64\n",
       "AutoSampleOptIn                                        int64\n",
       "Census_FirmwareManufacturerIdentifier                float64\n",
       "Census_FirmwareVersionIdentifier                     float64\n",
       "Census_HasOpticalDiskDrive                             int64\n",
       "Census_InternalBatteryNumberOfCharges                float64\n",
       "Census_InternalPrimaryDiagonalDisplaySizeInInches    float64\n",
       "Census_InternalPrimaryDisplayResolutionHorizontal    float64\n",
       "Census_InternalPrimaryDisplayResolutionVertical      float64\n",
       "Census_IsAlwaysOnAlwaysConnectedCapable              float64\n",
       "Census_IsFlightingInternal                           float64\n",
       "Census_IsFlightsDisabled                             float64\n",
       "Census_IsPenCapable                                    int64\n",
       "Census_IsPortableOperatingSystem                       int64\n",
       "Census_IsSecureBootEnabled                             int64\n",
       "Census_IsTouchEnabled                                  int64\n",
       "Census_IsVirtualDevice                               float64\n",
       "Census_IsWIMBootEnabled                              float64\n",
       "Census_OEMModelIdentifier                            float64\n",
       "Census_OEMNameIdentifier                             float64\n",
       "Census_OSBuildNumber                                   int64\n",
       "Census_OSBuildRevision                                 int64\n",
       "Census_OSInstallLanguageIdentifier                   float64\n",
       "Census_OSUILocaleIdentifier                            int64\n",
       "Census_PrimaryDiskTotalCapacity                      float64\n",
       "Census_ProcessorCoreCount                            float64\n",
       "Census_ProcessorManufacturerIdentifier               float64\n",
       "Census_ProcessorModelIdentifier                      float64\n",
       "Census_SystemVolumeTotalCapacity                     float64\n",
       "Census_ThresholdOptIn                                float64\n",
       "Census_TotalPhysicalRAM                              float64\n",
       "CityIdentifier                                       float64\n",
       "CountryIdentifier                                      int64\n",
       "DefaultBrowsersIdentifier                            float64\n",
       "Firewall                                             float64\n",
       "GeoNameIdentifier                                    float64\n",
       "HasDetections                                          int64\n",
       "HasTpm                                                 int64\n",
       "IeVerIdentifier                                      float64\n",
       "IsBeta                                                 int64\n",
       "IsProtected                                          float64\n",
       "IsSxsPassiveMode                                       int64\n",
       "LocaleEnglishNameIdentifier                            int64\n",
       "OrganizationIdentifier                               float64\n",
       "OsBuild                                                int64\n",
       "OsSuite                                                int64\n",
       "RtpStateBitfield                                     float64\n",
       "SMode                                                float64\n",
       "UacLuaenable                                         float64\n",
       "Wdft_IsGamer                                         float64\n",
       "Wdft_RegionIdentifier                                float64\n",
       "dtype: object"
      ]
     },
     "execution_count": 10,
     "metadata": {},
     "output_type": "execute_result"
    }
   ],
   "source": [
    "df.dtypes"
   ]
  },
  {
   "cell_type": "markdown",
   "metadata": {},
   "source": [
    "### Predictions"
   ]
  },
  {
   "cell_type": "code",
   "execution_count": 11,
   "metadata": {},
   "outputs": [],
   "source": [
    "from sklearn.model_selection import train_test_split\n",
    "# Separamos los datos en el conjunto de entrenamiento en el test\n",
    "X_train, X_test, y_train, y_test = train_test_split(\n",
    "    df.drop('HasDetections', axis=1), df[\"HasDetections\"])"
   ]
  },
  {
   "cell_type": "code",
   "execution_count": 12,
   "metadata": {},
   "outputs": [],
   "source": [
    "from sklearn.neural_network import MLPClassifier\n",
    "from sklearn.neighbors import KNeighborsClassifier\n",
    "from sklearn.svm import SVC\n",
    "from sklearn.gaussian_process import GaussianProcessClassifier\n",
    "from sklearn.gaussian_process.kernels import RBF\n",
    "from sklearn.tree import DecisionTreeClassifier\n",
    "from sklearn.ensemble import RandomForestClassifier, AdaBoostClassifier\n",
    "from sklearn.naive_bayes import GaussianNB\n",
    "from sklearn.discriminant_analysis import QuadraticDiscriminantAnalysis\n",
    "\n",
    "classifiers = {\n",
    "    \n",
    "    \n",
    "#    \"KNN(3)\"        : KNeighborsClassifier(3),\n",
    "#    \"Linear SVM\"    : SVC(kernel=\"linear\"),\n",
    "#    \"RBF SVM\"       : SVC(gamma=2, C=1),\n",
    "#    \"Gaussian Proc\" : GaussianProcessClassifier(1.0 * RBF(1.0)),\n",
    "#    \"Desition Tree\" : DecisionTreeClassifier(max_depth=7),\n",
    "#    \"Random Forest\" : RandomForestClassifier(max_depth=3, n_estimators=150),\n",
    "    \"Neural Net\"    : MLPClassifier(alpha=1),\n",
    "    \"AdaBoost\"      : AdaBoostClassifier(),\n",
    "    \"Naive Bayes\"   : GaussianNB(),\n",
    "    \"QDA\"           : QuadraticDiscriminantAnalysis()\n",
    "}"
   ]
  },
  {
   "cell_type": "code",
   "execution_count": 14,
   "metadata": {},
   "outputs": [
    {
     "name": "stdout",
     "output_type": "stream",
     "text": [
      "Puntuacioes de Neural Net, Entrenamiento: 49.97%, Test: 50.01%\n",
      "Puntuacioes de AdaBoost, Entrenamiento: 60.15%, Test: 60.18%\n",
      "Puntuacioes de Naive Bayes, Entrenamiento: 52.39%, Test: 52.38%\n",
      "Puntuacioes de QDA, Entrenamiento: 56.67%, Test: 56.60%\n"
     ]
    }
   ],
   "source": [
    "for name, classifier in classifiers.items():\n",
    "    classifier.fit(X_train, y_train)\n",
    "    train = classifier.score(X_train, y_train)\n",
    "    score = classifier.score(X_test, y_test)\n",
    "    print(\"Puntuacioes de {}, Entrenamiento: {:.2%}, Test: {:.2%}\".format(name, train, score))"
   ]
  },
  {
   "cell_type": "markdown",
   "metadata": {},
   "source": [
    "Puntuacioes de KNN(3), Entrenamiento: 76.34%, Test: 53.95%\n",
    "Puntuacioes de Neural Net, Entrenamiento: 49.97%, Test: 50.01%\n",
    "Puntuacioes de AdaBoost, Entrenamiento: 60.15%, Test: 60.18%\n",
    "Puntuacioes de Naive Bayes, Entrenamiento: 52.39%, Test: 52.38%\n",
    "Puntuacioes de QDA, Entrenamiento: 56.67%, Test: 56.60%"
   ]
  },
  {
   "cell_type": "code",
   "execution_count": 15,
   "metadata": {},
   "outputs": [],
   "source": [
    "from sklearn.metrics import roc_auc_score"
   ]
  },
  {
   "cell_type": "code",
   "execution_count": 14,
   "metadata": {},
   "outputs": [],
   "source": [
    "from sklearn.ensemble import GradientBoostingClassifier\n",
    "from sklearn.model_selection import GridSearchCV"
   ]
  },
  {
   "cell_type": "code",
   "execution_count": 16,
   "metadata": {},
   "outputs": [],
   "source": [
    "X = df.drop('HasDetections', axis=1)\n",
    "y = df['HasDetections']"
   ]
  },
  {
   "cell_type": "markdown",
   "metadata": {},
   "source": [
    "Entrenamiento de Adaboost utilizando 1M de entradas y con GridSearchCV"
   ]
  },
  {
   "cell_type": "code",
   "execution_count": 17,
   "metadata": {},
   "outputs": [
    {
     "name": "stdout",
     "output_type": "stream",
     "text": [
      "Fitting 3 folds for each of 6 candidates, totalling 18 fits\n",
      "[CV] learning_rate=0.01, n_estimators=70 .............................\n",
      "[CV] .............. learning_rate=0.01, n_estimators=70, total= 3.5min\n",
      "[CV] learning_rate=0.01, n_estimators=70 .............................\n"
     ]
    },
    {
     "name": "stderr",
     "output_type": "stream",
     "text": [
      "[Parallel(n_jobs=1)]: Done   1 out of   1 | elapsed:  3.7min remaining:    0.0s\n"
     ]
    },
    {
     "name": "stdout",
     "output_type": "stream",
     "text": [
      "[CV] .............. learning_rate=0.01, n_estimators=70, total= 3.5min\n",
      "[CV] learning_rate=0.01, n_estimators=70 .............................\n",
      "[CV] .............. learning_rate=0.01, n_estimators=70, total= 3.5min\n",
      "[CV] learning_rate=0.01, n_estimators=135 ............................\n",
      "[CV] ............. learning_rate=0.01, n_estimators=135, total= 6.7min\n",
      "[CV] learning_rate=0.01, n_estimators=135 ............................\n",
      "[CV] ............. learning_rate=0.01, n_estimators=135, total= 6.7min\n",
      "[CV] learning_rate=0.01, n_estimators=135 ............................\n",
      "[CV] ............. learning_rate=0.01, n_estimators=135, total= 6.7min\n",
      "[CV] learning_rate=0.01, n_estimators=200 ............................\n",
      "[CV] ............. learning_rate=0.01, n_estimators=200, total= 9.9min\n",
      "[CV] learning_rate=0.01, n_estimators=200 ............................\n",
      "[CV] ............. learning_rate=0.01, n_estimators=200, total= 9.9min\n",
      "[CV] learning_rate=0.01, n_estimators=200 ............................\n",
      "[CV] ............. learning_rate=0.01, n_estimators=200, total= 9.9min\n",
      "[CV] learning_rate=0.1, n_estimators=70 ..............................\n",
      "[CV] ............... learning_rate=0.1, n_estimators=70, total= 3.5min\n",
      "[CV] learning_rate=0.1, n_estimators=70 ..............................\n",
      "[CV] ............... learning_rate=0.1, n_estimators=70, total= 3.5min\n",
      "[CV] learning_rate=0.1, n_estimators=70 ..............................\n",
      "[CV] ............... learning_rate=0.1, n_estimators=70, total= 3.5min\n",
      "[CV] learning_rate=0.1, n_estimators=135 .............................\n",
      "[CV] .............. learning_rate=0.1, n_estimators=135, total= 6.7min\n",
      "[CV] learning_rate=0.1, n_estimators=135 .............................\n",
      "[CV] .............. learning_rate=0.1, n_estimators=135, total= 6.7min\n",
      "[CV] learning_rate=0.1, n_estimators=135 .............................\n",
      "[CV] .............. learning_rate=0.1, n_estimators=135, total= 6.7min\n",
      "[CV] learning_rate=0.1, n_estimators=200 .............................\n",
      "[CV] .............. learning_rate=0.1, n_estimators=200, total= 9.9min\n",
      "[CV] learning_rate=0.1, n_estimators=200 .............................\n",
      "[CV] .............. learning_rate=0.1, n_estimators=200, total= 9.9min\n",
      "[CV] learning_rate=0.1, n_estimators=200 .............................\n",
      "[CV] .............. learning_rate=0.1, n_estimators=200, total= 9.9min\n"
     ]
    },
    {
     "name": "stderr",
     "output_type": "stream",
     "text": [
      "[Parallel(n_jobs=1)]: Done  18 out of  18 | elapsed: 125.8min finished\n"
     ]
    },
    {
     "data": {
      "text/plain": [
       "GridSearchCV(cv=None, error_score='raise',\n",
       "       estimator=AdaBoostClassifier(algorithm='SAMME.R', base_estimator=None,\n",
       "          learning_rate=1.0, n_estimators=50, random_state=None),\n",
       "       fit_params=None, iid=True, n_jobs=1,\n",
       "       param_grid={'learning_rate': [0.01, 0.1], 'n_estimators': [70, 135, 200]},\n",
       "       pre_dispatch='2*n_jobs', refit=True, return_train_score='warn',\n",
       "       scoring=None, verbose=2)"
      ]
     },
     "execution_count": 17,
     "metadata": {},
     "output_type": "execute_result"
    }
   ],
   "source": [
    "from sklearn.ensemble import AdaBoostClassifier\n",
    "accv = GridSearchCV(AdaBoostClassifier(), \n",
    "                   param_grid = {\n",
    "                       'learning_rate':[0.01, 0.1],\n",
    "                       'n_estimators':[70, 135, 200]\n",
    "                   }, verbose=2)\n",
    "accv.fit(X, y)"
   ]
  },
  {
   "cell_type": "code",
   "execution_count": 18,
   "metadata": {},
   "outputs": [
    {
     "data": {
      "text/plain": [
       "AdaBoostClassifier(algorithm='SAMME.R', base_estimator=None,\n",
       "          learning_rate=0.1, n_estimators=200, random_state=None)"
      ]
     },
     "execution_count": 18,
     "metadata": {},
     "output_type": "execute_result"
    }
   ],
   "source": [
    "accv.best_estimator_"
   ]
  },
  {
   "cell_type": "markdown",
   "metadata": {},
   "source": [
    "Medición del acieto con la métrica propuesta: \"Roc\""
   ]
  },
  {
   "cell_type": "code",
   "execution_count": 21,
   "metadata": {},
   "outputs": [
    {
     "name": "stdout",
     "output_type": "stream",
     "text": [
      "Train score = 0.63 and Test score = 0.63.\n"
     ]
    }
   ],
   "source": [
    "train_score = roc_auc_score(y_train, accv.predict_proba(X_train)[:, 1])\n",
    "test_score = roc_auc_score(y_test, accv.predict_proba(X_test)[:, 1])\n",
    "print(\"Train score = {:.2f} and Test score = {:.2f}.\".format(train_score, test_score))"
   ]
  },
  {
   "cell_type": "markdown",
   "metadata": {},
   "source": [
    "Entrenamiento de GradientBoostingClassifier utilizando 1M de entradas y con GridSearchCV"
   ]
  },
  {
   "cell_type": "code",
   "execution_count": 22,
   "metadata": {
    "scrolled": true
   },
   "outputs": [
    {
     "name": "stdout",
     "output_type": "stream",
     "text": [
      "Fitting 3 folds for each of 1 candidates, totalling 3 fits\n",
      "[CV] learning_rate=0.1, max_depth=5, n_estimators=200 ................\n",
      "[CV] . learning_rate=0.1, max_depth=5, n_estimators=200, total=23.8min\n",
      "[CV] learning_rate=0.1, max_depth=5, n_estimators=200 ................\n"
     ]
    },
    {
     "name": "stderr",
     "output_type": "stream",
     "text": [
      "[Parallel(n_jobs=1)]: Done   1 out of   1 | elapsed: 23.8min remaining:    0.0s\n"
     ]
    },
    {
     "name": "stdout",
     "output_type": "stream",
     "text": [
      "[CV] . learning_rate=0.1, max_depth=5, n_estimators=200, total=23.5min\n",
      "[CV] learning_rate=0.1, max_depth=5, n_estimators=200 ................\n",
      "[CV] . learning_rate=0.1, max_depth=5, n_estimators=200, total=23.5min\n"
     ]
    },
    {
     "name": "stderr",
     "output_type": "stream",
     "text": [
      "[Parallel(n_jobs=1)]: Done   3 out of   3 | elapsed: 71.0min finished\n"
     ]
    },
    {
     "data": {
      "text/plain": [
       "GridSearchCV(cv=None, error_score='raise',\n",
       "       estimator=GradientBoostingClassifier(criterion='friedman_mse', init=None,\n",
       "              learning_rate=0.1, loss='deviance', max_depth=3,\n",
       "              max_features=None, max_leaf_nodes=None,\n",
       "              min_impurity_decrease=0.0, min_impurity_split=None,\n",
       "              min_samples_leaf=1, min_samples_split=2,\n",
       "              min_weight_fraction_leaf=0.0, n_estimators=100,\n",
       "              presort='auto', random_state=None, subsample=1.0, verbose=0,\n",
       "              warm_start=False),\n",
       "       fit_params=None, iid=True, n_jobs=1,\n",
       "       param_grid={'learning_rate': [0.1], 'n_estimators': [200], 'max_depth': [5]},\n",
       "       pre_dispatch='2*n_jobs', refit=True, return_train_score='warn',\n",
       "       scoring=None, verbose=2)"
      ]
     },
     "execution_count": 22,
     "metadata": {},
     "output_type": "execute_result"
    }
   ],
   "source": [
    "gbcv = GridSearchCV(GradientBoostingClassifier(), \n",
    "                   param_grid = {\n",
    "                       'learning_rate':[0.1],\n",
    "                       'n_estimators':[200],\n",
    "                       'max_depth':[5]\n",
    "                   }, verbose=2)\n",
    "gbcv.fit(X, y)"
   ]
  },
  {
   "cell_type": "code",
   "execution_count": 16,
   "metadata": {
    "scrolled": true
   },
   "outputs": [
    {
     "data": {
      "text/plain": [
       "GradientBoostingClassifier(criterion='friedman_mse', init=None,\n",
       "              learning_rate=0.1, loss='deviance', max_depth=5,\n",
       "              max_features=None, max_leaf_nodes=None,\n",
       "              min_impurity_decrease=0.0, min_impurity_split=None,\n",
       "              min_samples_leaf=1, min_samples_split=2,\n",
       "              min_weight_fraction_leaf=0.0, n_estimators=200,\n",
       "              presort='auto', random_state=None, subsample=1.0, verbose=0,\n",
       "              warm_start=False)"
      ]
     },
     "execution_count": 16,
     "metadata": {},
     "output_type": "execute_result"
    }
   ],
   "source": [
    "gbcv.best_estimator_"
   ]
  },
  {
   "cell_type": "markdown",
   "metadata": {},
   "source": [
    "Medición del acieto con la métrica propuesta: \"Roc\""
   ]
  },
  {
   "cell_type": "code",
   "execution_count": 24,
   "metadata": {},
   "outputs": [
    {
     "name": "stdout",
     "output_type": "stream",
     "text": [
      "Train score = 0.67 and Test score = 0.67.\n"
     ]
    }
   ],
   "source": [
    "train_score = roc_auc_score(y_train, gbcv.predict_proba(X_train)[:, 1])\n",
    "test_score = roc_auc_score(y_test, gbcv.predict_proba(X_test)[:, 1])\n",
    "print(\"Train score = {:.2f} and Test score = {:.2f}.\".format(train_score, test_score))"
   ]
  },
  {
   "cell_type": "code",
   "execution_count": 14,
   "metadata": {},
   "outputs": [
    {
     "data": {
      "text/plain": [
       "0.7128408317104356"
      ]
     },
     "execution_count": 14,
     "metadata": {},
     "output_type": "execute_result"
    }
   ],
   "source": [
    "train_score"
   ]
  },
  {
   "cell_type": "code",
   "execution_count": 15,
   "metadata": {},
   "outputs": [
    {
     "data": {
      "text/plain": [
       "0.6409982560592701"
      ]
     },
     "execution_count": 15,
     "metadata": {},
     "output_type": "execute_result"
    }
   ],
   "source": [
    "test_score"
   ]
  },
  {
   "cell_type": "markdown",
   "metadata": {},
   "source": [
    "### Predict test"
   ]
  },
  {
   "cell_type": "code",
   "execution_count": 39,
   "metadata": {},
   "outputs": [],
   "source": [
    "cols = df.drop('HasDetections', axis=1).columns"
   ]
  },
  {
   "cell_type": "code",
   "execution_count": 40,
   "metadata": {},
   "outputs": [],
   "source": [
    "import os"
   ]
  },
  {
   "cell_type": "code",
   "execution_count": 41,
   "metadata": {},
   "outputs": [],
   "source": [
    "submission_path = 'C:/Users/Usuario/Downloads/'\n",
    "submission_file_name = 'submission.csv'"
   ]
  },
  {
   "cell_type": "code",
   "execution_count": 42,
   "metadata": {},
   "outputs": [
    {
     "name": "stdout",
     "output_type": "stream",
     "text": [
      "continua\n"
     ]
    }
   ],
   "source": [
    "if submission_file_name in os.listdir(submission_path):\n",
    "    print('ya existe ese archivo, cuidado')\n",
    "else:\n",
    "    print('continua')"
   ]
  },
  {
   "cell_type": "code",
   "execution_count": 43,
   "metadata": {},
   "outputs": [],
   "source": [
    "submission_file_path = submission_path + submission_file_name"
   ]
  },
  {
   "cell_type": "code",
   "execution_count": 44,
   "metadata": {},
   "outputs": [],
   "source": [
    "with open(submission_file_path, 'w+') as file:\n",
    "    file.write('MachineIdentifier,HasDetections\\n')"
   ]
  },
  {
   "cell_type": "code",
   "execution_count": 45,
   "metadata": {},
   "outputs": [],
   "source": [
    "nrows_test = 7853253\n",
    "chunksize = 100000"
   ]
  },
  {
   "cell_type": "code",
   "execution_count": 46,
   "metadata": {
    "scrolled": true
   },
   "outputs": [
    {
     "name": "stderr",
     "output_type": "stream",
     "text": [
      "C:\\Users\\Usuario\\Anaconda3\\lib\\site-packages\\IPython\\core\\interactiveshell.py:2785: DtypeWarning: Columns (28) have mixed types. Specify dtype option on import or set low_memory=False.\n",
      "  interactivity=interactivity, compiler=compiler, result=result)\n"
     ]
    },
    {
     "name": "stdout",
     "output_type": "stream",
     "text": [
      " 0.0%\n",
      " 1.3%\n",
      " 2.5%\n",
      " 3.8%\n",
      " 5.1%\n",
      " 6.4%\n",
      " 7.6%\n",
      " 8.9%\n",
      " 10.2%\n",
      " 11.5%\n",
      " 12.7%\n",
      " 14.0%\n",
      " 15.3%\n",
      " 16.6%\n",
      " 17.8%\n",
      " 19.1%\n",
      " 20.4%\n",
      " 21.6%\n",
      " 22.9%\n",
      " 24.2%\n",
      " 25.5%\n",
      " 26.7%\n",
      " 28.0%\n",
      " 29.3%\n",
      " 30.6%\n",
      " 31.8%\n",
      " 33.1%\n",
      " 34.4%\n",
      " 35.7%\n",
      " 36.9%\n",
      " 38.2%\n",
      " 39.5%\n",
      " 40.7%\n",
      " 42.0%\n",
      " 43.3%\n",
      " 44.6%\n",
      " 45.8%\n",
      " 47.1%\n",
      " 48.4%\n"
     ]
    },
    {
     "name": "stderr",
     "output_type": "stream",
     "text": [
      "C:\\Users\\Usuario\\Anaconda3\\lib\\site-packages\\IPython\\core\\interactiveshell.py:2785: DtypeWarning: Columns (28,41) have mixed types. Specify dtype option on import or set low_memory=False.\n",
      "  interactivity=interactivity, compiler=compiler, result=result)\n"
     ]
    },
    {
     "name": "stdout",
     "output_type": "stream",
     "text": [
      " 49.7%\n",
      " 50.9%\n",
      " 52.2%\n",
      " 53.5%\n",
      " 54.8%\n",
      " 56.0%\n",
      " 57.3%\n",
      " 58.6%\n",
      " 59.8%\n",
      " 61.1%\n",
      " 62.4%\n",
      " 63.7%\n",
      " 64.9%\n",
      " 66.2%\n",
      " 67.5%\n",
      " 68.8%\n",
      " 70.0%\n",
      " 71.3%\n",
      " 72.6%\n",
      " 73.9%\n",
      " 75.1%\n",
      " 76.4%\n",
      " 77.7%\n",
      " 78.9%\n",
      " 80.2%\n",
      " 81.5%\n",
      " 82.8%\n",
      " 84.0%\n",
      " 85.3%\n",
      " 86.6%\n",
      " 87.9%\n",
      " 89.1%\n",
      " 90.4%\n",
      " 91.7%\n",
      " 93.0%\n",
      " 94.2%\n",
      " 95.5%\n",
      " 96.8%\n",
      " 98.0%\n",
      " 99.3%\n"
     ]
    }
   ],
   "source": [
    "for chunk_number, df_test in enumerate(pd.read_csv('C:/Users/Usuario/Downloads/all/test.csv', chunksize=chunksize)):\n",
    "    print(f'{chunk_number * chunksize / nrows_test * 100: .1f}%')\n",
    "    ids = df_test.MachineIdentifier\n",
    "    df_test = df_test[cols]\n",
    "    df_test = df_test.fillna(df_test.mean())\n",
    "    \n",
    "    preds = pd.DataFrame({'MachineIdentifier': ids, 'HasDetections': gbcv.predict_proba(df_test)[:, 1]})\n",
    "    \n",
    "    \n",
    "    with open(submission_file_path, 'a') as file:\n",
    "        preds.to_csv(file, index=False, header=False)"
   ]
  },
  {
   "cell_type": "code",
   "execution_count": null,
   "metadata": {},
   "outputs": [],
   "source": [
    "# Second try. Same model trained with more examples."
   ]
  }
 ],
 "metadata": {
  "kernelspec": {
   "display_name": "Python 3",
   "language": "python",
   "name": "python3"
  },
  "language_info": {
   "codemirror_mode": {
    "name": "ipython",
    "version": 3
   },
   "file_extension": ".py",
   "mimetype": "text/x-python",
   "name": "python",
   "nbconvert_exporter": "python",
   "pygments_lexer": "ipython3",
   "version": "3.6.5"
  }
 },
 "nbformat": 4,
 "nbformat_minor": 2
}
